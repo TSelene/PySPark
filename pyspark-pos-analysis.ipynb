{
 "cells": [
  {
   "cell_type": "markdown",
   "id": "0540d510",
   "metadata": {
    "tags": []
   },
   "source": [
    "# PySpark Part of Speech (POS) analysis\n",
    "Text taken from [Reuters](https://www.reuters.com/business/finance/banks-beware-outsiders-are-cracking-code-finance-2021-09-17/)."
   ]
  },
  {
   "cell_type": "code",
   "execution_count": 1,
   "id": "7002bd1c",
   "metadata": {},
   "outputs": [],
   "source": [
    "import nltk\n",
    "from pyspark import SparkContext"
   ]
  },
  {
   "cell_type": "code",
   "execution_count": 2,
   "id": "ce6439fb",
   "metadata": {},
   "outputs": [
    {
     "name": "stderr",
     "output_type": "stream",
     "text": [
      "[nltk_data] Downloading package punkt to\n",
      "[nltk_data]     C:\\Users\\Oscar\\AppData\\Roaming\\nltk_data...\n",
      "[nltk_data]   Package punkt is already up-to-date!\n",
      "[nltk_data] Downloading package averaged_perceptron_tagger to\n",
      "[nltk_data]     C:\\Users\\Oscar\\AppData\\Roaming\\nltk_data...\n",
      "[nltk_data]   Package averaged_perceptron_tagger is already up-to-\n",
      "[nltk_data]       date!\n",
      "[nltk_data] Downloading package stopwords to\n",
      "[nltk_data]     C:\\Users\\Oscar\\AppData\\Roaming\\nltk_data...\n",
      "[nltk_data]   Package stopwords is already up-to-date!\n"
     ]
    },
    {
     "data": {
      "text/plain": [
       "True"
      ]
     },
     "execution_count": 2,
     "metadata": {},
     "output_type": "execute_result"
    }
   ],
   "source": [
    "nltk.download(\"punkt\")\n",
    "nltk.download(\"averaged_perceptron_tagger\")\n",
    "nltk.download(\"stopwords\")"
   ]
  },
  {
   "cell_type": "code",
   "execution_count": 3,
   "id": "20628a18",
   "metadata": {},
   "outputs": [],
   "source": [
    "# Entry point for working with RDD\n",
    "sc = SparkContext(appName = \"pyspark-pos-analysis\")"
   ]
  },
  {
   "cell_type": "code",
   "execution_count": 4,
   "id": "170133b0",
   "metadata": {},
   "outputs": [],
   "source": [
    "# Loading a text file\n",
    "rdd_reuters = sc.textFile(\"./data/reuters.txt\")"
   ]
  },
  {
   "cell_type": "code",
   "execution_count": 5,
   "id": "d7adae47",
   "metadata": {},
   "outputs": [
    {
     "data": {
      "text/plain": [
       "87"
      ]
     },
     "execution_count": 5,
     "metadata": {},
     "output_type": "execute_result"
    }
   ],
   "source": [
    "rdd_reuters.count()"
   ]
  },
  {
   "cell_type": "code",
   "execution_count": 6,
   "id": "3b0fc370",
   "metadata": {},
   "outputs": [],
   "source": [
    "from nltk.tokenize import word_tokenize"
   ]
  },
  {
   "cell_type": "code",
   "execution_count": 7,
   "id": "443dcb43",
   "metadata": {},
   "outputs": [
    {
     "name": "stdout",
     "output_type": "stream",
     "text": [
      "{'him', 'hers', 'very', \"couldn't\", 'should', 'his', 'was', 'further', 'theirs', 'while', \"isn't\", 'me', \"wouldn't\", 'doesn', 'which', 'any', 'how', 'needn', 'other', 'them', 'below', 'so', 'ma', \"needn't\", 'you', \"you'd\", 'after', 're', 'the', 'between', 'those', 'both', \"she's\", 'all', 'do', 'such', 'no', 'aren', 'not', 'herself', 'of', 'her', \"hadn't\", 's', \"don't\", 'we', 'same', 'm', \"haven't\", 'wasn', 'again', 'had', 'shan', 't', 'off', 'before', 'what', 'or', 'that', 'once', 'have', 'where', \"shan't\", 'who', 'weren', 'having', 'themselves', 'their', 'll', 'will', 'about', 'during', 'than', \"you're\", 'up', 'against', 'above', 'he', \"hasn't\", 'under', \"wasn't\", 'myself', 'and', 'into', 'at', 'for', 'when', \"that'll\", 'couldn', 'hadn', 'yourself', 'mustn', 'then', 'but', 'these', \"mightn't\", \"shouldn't\", 'because', 'now', \"mustn't\", 'did', 'haven', 'isn', 'ours', 'why', 'is', 'this', 'its', 'with', 'down', 'to', 'from', \"it's\", 'through', 'an', 'she', 'wouldn', \"aren't\", 'be', 'each', 'd', 'were', \"should've\", 'has', \"weren't\", 've', 'itself', 'as', 'your', 'mightn', \"you've\", 'hasn', 'only', 'can', 'most', 'some', \"doesn't\", 'on', 'few', 'just', 'here', 'does', 'yourselves', 'y', \"didn't\", 'am', 'if', 'in', 'until', 'own', 'our', 'it', 'been', 'more', 'whom', 'my', \"won't\", \"you'll\", 'himself', 'i', 'are', 'being', 'doing', 'o', 'a', 'won', 'they', 'yours', 'out', 'didn', 'shouldn', 'ain', 'nor', 'ourselves', 'by', 'there', 'don', 'over', 'too'}\n"
     ]
    }
   ],
   "source": [
    "from nltk.corpus import stopwords\n",
    "print(set(stopwords.words('English')))"
   ]
  },
  {
   "cell_type": "code",
   "execution_count": 8,
   "id": "7e3f5b3f-83d8-484b-8d9b-de538d00534d",
   "metadata": {},
   "outputs": [
    {
     "data": {
      "text/plain": [
       "['Banks beware, Amazon and Walmart are cracking the code for finance',\n",
       " '',\n",
       " 'LONDON, Sept 17 (Reuters) - Anyone can be a banker these days, you just need the right code.',\n",
       " '',\n",
       " 'Global brands from Mercedes and Amazon (AMZN.O) to IKEA and Walmart (WMT.N) are cutting out the traditional financial middleman and plugging in software from tech startups to offer customers everything from banking and credit to insurance.',\n",
       " '',\n",
       " 'For established financial institutions, the warning signs are flashing.',\n",
       " '',\n",
       " 'So-called embedded finance - a fancy term for companies integrating software to offer financial services - means Amazon can let customers \"buy now pay later\" when they check out and Mercedes drivers can get their cars to pay for their fuel.',\n",
       " '']"
      ]
     },
     "execution_count": 8,
     "metadata": {},
     "output_type": "execute_result"
    }
   ],
   "source": [
    "rdd_reuters.take(10)"
   ]
  },
  {
   "cell_type": "code",
   "execution_count": 9,
   "id": "4869d6a5-dc24-4200-afc7-09495b763fb9",
   "metadata": {},
   "outputs": [
    {
     "data": {
      "text/plain": [
       "[['Banks',\n",
       "  'beware,',\n",
       "  'Amazon',\n",
       "  'and',\n",
       "  'Walmart',\n",
       "  'are',\n",
       "  'cracking',\n",
       "  'the',\n",
       "  'code',\n",
       "  'for',\n",
       "  'finance'],\n",
       " [''],\n",
       " ['LONDON,',\n",
       "  'Sept',\n",
       "  '17',\n",
       "  '(Reuters)',\n",
       "  '-',\n",
       "  'Anyone',\n",
       "  'can',\n",
       "  'be',\n",
       "  'a',\n",
       "  'banker',\n",
       "  'these',\n",
       "  'days,',\n",
       "  'you',\n",
       "  'just',\n",
       "  'need',\n",
       "  'the',\n",
       "  'right',\n",
       "  'code.']]"
      ]
     },
     "execution_count": 9,
     "metadata": {},
     "output_type": "execute_result"
    }
   ],
   "source": [
    "rdd_reuters.map(lambda x: x.split(\" \")).take(3)"
   ]
  },
  {
   "cell_type": "code",
   "execution_count": 10,
   "id": "db0d860b-1f1d-4ab3-b85e-d86e078934e5",
   "metadata": {},
   "outputs": [
    {
     "data": {
      "text/plain": [
       "['Banks',\n",
       " 'beware,',\n",
       " 'Amazon',\n",
       " 'and',\n",
       " 'Walmart',\n",
       " 'are',\n",
       " 'cracking',\n",
       " 'the',\n",
       " 'code',\n",
       " 'for',\n",
       " 'finance',\n",
       " '',\n",
       " 'LONDON,',\n",
       " 'Sept',\n",
       " '17']"
      ]
     },
     "execution_count": 10,
     "metadata": {},
     "output_type": "execute_result"
    }
   ],
   "source": [
    "rdd_reuters.flatMap(lambda x: x.split(\" \")).take(15)"
   ]
  },
  {
   "cell_type": "code",
   "execution_count": 17,
   "id": "eb5c5c19-b1f1-4107-b2ef-3750a252cf6a",
   "metadata": {},
   "outputs": [
    {
     "data": {
      "text/plain": [
       "[('', 43),\n",
       " ('the', 41),\n",
       " ('to', 41),\n",
       " ('and', 34),\n",
       " ('of', 25),\n",
       " ('in', 18),\n",
       " ('for', 18),\n",
       " ('a', 16),\n",
       " ('is', 14),\n",
       " ('are', 12)]"
      ]
     },
     "execution_count": 17,
     "metadata": {},
     "output_type": "execute_result"
    }
   ],
   "source": [
    "rdd_reuters.flatMap(lambda line: line.split(\" \")) \\\n",
    "    .map(lambda word: (word, 1)) \\\n",
    "    .reduceByKey(lambda a, b: a + b) \\\n",
    "    .map(lambda x: (x[1], x[0])) \\\n",
    "    .sortByKey(ascending = False) \\\n",
    "    .map(lambda x: (x[1], x[0])) \\\n",
    "    .take(10)"
   ]
  },
  {
   "cell_type": "code",
   "execution_count": 40,
   "id": "4e255c24-fd05-4b10-b5be-d08e1cd5fcd1",
   "metadata": {},
   "outputs": [
    {
     "data": {
      "text/plain": [
       "PythonRDD[31] at RDD at PythonRDD.scala:53"
      ]
     },
     "execution_count": 40,
     "metadata": {},
     "output_type": "execute_result"
    }
   ],
   "source": [
    "rdd_reuters.map(lambda x: x.word_tokenize().take(50))"
   ]
  },
  {
   "cell_type": "code",
   "execution_count": 27,
   "id": "66eda4a4-4c17-4c77-bddd-ae5746afd8fb",
   "metadata": {},
   "outputs": [
    {
     "data": {
      "text/plain": [
       "PythonRDD[27] at RDD at PythonRDD.scala:53"
      ]
     },
     "execution_count": 27,
     "metadata": {},
     "output_type": "execute_result"
    }
   ],
   "source": [
    "rdd_reuters.map(lambda x: x.pos_tag().take(50))"
   ]
  },
  {
   "cell_type": "code",
   "execution_count": 41,
   "id": "bb23531f",
   "metadata": {},
   "outputs": [],
   "source": [
    "sc.stop()"
   ]
  },
  {
   "cell_type": "code",
   "execution_count": null,
   "id": "05a93d2b-fe27-4be0-b26e-3009d5d272f4",
   "metadata": {},
   "outputs": [],
   "source": []
  }
 ],
 "metadata": {
  "kernelspec": {
   "display_name": "Python 3 (ipykernel)",
   "language": "python",
   "name": "python3"
  },
  "language_info": {
   "codemirror_mode": {
    "name": "ipython",
    "version": 3
   },
   "file_extension": ".py",
   "mimetype": "text/x-python",
   "name": "python",
   "nbconvert_exporter": "python",
   "pygments_lexer": "ipython3",
   "version": "3.10.2"
  }
 },
 "nbformat": 4,
 "nbformat_minor": 5
}
